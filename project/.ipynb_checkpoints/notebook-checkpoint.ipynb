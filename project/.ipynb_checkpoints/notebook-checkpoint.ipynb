{
 "cells": [
  {
   "cell_type": "code",
   "execution_count": 29,
   "id": "e13f5c70",
   "metadata": {},
   "outputs": [],
   "source": [
    "import torch\n",
    "import torchvision\n",
    "from torch.utils.data import DataLoader\n",
    "from torchvision import datasets\n",
    "import torch.nn as nn\n",
    "import torch.optim as optim\n",
    "\n",
    "from net import Net\n",
    "\n",
    "import os\n",
    "import string"
   ]
  },
  {
   "cell_type": "code",
   "execution_count": 30,
   "id": "7e8f7e2e",
   "metadata": {},
   "outputs": [],
   "source": [
    "#parameters:\n",
    "numEpochs = 10\n",
    "batchSize = 4\n",
    "learningRate = 0.001\n",
    "\n",
    "device = torch.device(\"cuda:0\" if torch.cuda.is_available() else \"cpu\")"
   ]
  },
  {
   "cell_type": "code",
   "execution_count": 31,
   "id": "ca769709",
   "metadata": {},
   "outputs": [
    {
     "name": "stdout",
     "output_type": "stream",
     "text": [
      "tensor([10, 11, 12, 39, 40, 41], device='cuda:0')\n"
     ]
    }
   ],
   "source": [
    "all_characters = string.printable\n",
    "\n",
    "# Turn string into list of longs\n",
    "def char_tensor(string):\n",
    "    tensor = torch.zeros(len(string)).long().to(device)\n",
    "    for c in range(len(string)):\n",
    "        tensor[c] = all_characters.index(string[c])\n",
    "    return tensor\n",
    "\n",
    "print(char_tensor('abcDEF'))"
   ]
  },
  {
   "cell_type": "code",
   "execution_count": 43,
   "id": "4ebde07d",
   "metadata": {},
   "outputs": [],
   "source": [
    "#useful function since author names are written FirstnameLastname in the folders\n",
    "def getUpperIndices(s):\n",
    "    return [i for i, c in enumerate(s) if c.isupper()]\n"
   ]
  },
  {
   "cell_type": "code",
   "execution_count": 52,
   "id": "cd639d5d",
   "metadata": {},
   "outputs": [
    {
     "name": "stdout",
     "output_type": "stream",
     "text": [
      "test: 2500\n",
      "train: 2500\n",
      "Aaron Pressman\n",
      "Alan Crosby\n"
     ]
    },
    {
     "ename": "KeyboardInterrupt",
     "evalue": "",
     "output_type": "error",
     "traceback": [
      "\u001b[1;31m---------------------------------------------------------------------------\u001b[0m",
      "\u001b[1;31mKeyboardInterrupt\u001b[0m                         Traceback (most recent call last)",
      "\u001b[1;32m~\\AppData\\Local\\Temp/ipykernel_7644/110823707.py\u001b[0m in \u001b[0;36m<module>\u001b[1;34m\u001b[0m\n\u001b[0;32m     23\u001b[0m             \u001b[0mcontent\u001b[0m \u001b[1;33m=\u001b[0m \u001b[0mf\u001b[0m\u001b[1;33m.\u001b[0m\u001b[0mread\u001b[0m\u001b[1;33m(\u001b[0m\u001b[1;33m)\u001b[0m\u001b[1;33m\u001b[0m\u001b[1;33m\u001b[0m\u001b[0m\n\u001b[0;32m     24\u001b[0m \u001b[1;33m\u001b[0m\u001b[0m\n\u001b[1;32m---> 25\u001b[1;33m         \u001b[0mconvert\u001b[0m \u001b[1;33m=\u001b[0m \u001b[0mchar_tensor\u001b[0m\u001b[1;33m(\u001b[0m\u001b[0mcontent\u001b[0m\u001b[1;33m)\u001b[0m\u001b[1;33m\u001b[0m\u001b[1;33m\u001b[0m\u001b[0m\n\u001b[0m\u001b[0;32m     26\u001b[0m         \u001b[1;31m#print(convert)\u001b[0m\u001b[1;33m\u001b[0m\u001b[1;33m\u001b[0m\u001b[1;33m\u001b[0m\u001b[0m\n\u001b[0;32m     27\u001b[0m \u001b[1;33m\u001b[0m\u001b[0m\n",
      "\u001b[1;32m~\\AppData\\Local\\Temp/ipykernel_7644/1056572084.py\u001b[0m in \u001b[0;36mchar_tensor\u001b[1;34m(string)\u001b[0m\n\u001b[0;32m      5\u001b[0m     \u001b[0mtensor\u001b[0m \u001b[1;33m=\u001b[0m \u001b[0mtorch\u001b[0m\u001b[1;33m.\u001b[0m\u001b[0mzeros\u001b[0m\u001b[1;33m(\u001b[0m\u001b[0mlen\u001b[0m\u001b[1;33m(\u001b[0m\u001b[0mstring\u001b[0m\u001b[1;33m)\u001b[0m\u001b[1;33m)\u001b[0m\u001b[1;33m.\u001b[0m\u001b[0mlong\u001b[0m\u001b[1;33m(\u001b[0m\u001b[1;33m)\u001b[0m\u001b[1;33m.\u001b[0m\u001b[0mto\u001b[0m\u001b[1;33m(\u001b[0m\u001b[0mdevice\u001b[0m\u001b[1;33m)\u001b[0m\u001b[1;33m\u001b[0m\u001b[1;33m\u001b[0m\u001b[0m\n\u001b[0;32m      6\u001b[0m     \u001b[1;32mfor\u001b[0m \u001b[0mc\u001b[0m \u001b[1;32min\u001b[0m \u001b[0mrange\u001b[0m\u001b[1;33m(\u001b[0m\u001b[0mlen\u001b[0m\u001b[1;33m(\u001b[0m\u001b[0mstring\u001b[0m\u001b[1;33m)\u001b[0m\u001b[1;33m)\u001b[0m\u001b[1;33m:\u001b[0m\u001b[1;33m\u001b[0m\u001b[1;33m\u001b[0m\u001b[0m\n\u001b[1;32m----> 7\u001b[1;33m         \u001b[0mtensor\u001b[0m\u001b[1;33m[\u001b[0m\u001b[0mc\u001b[0m\u001b[1;33m]\u001b[0m \u001b[1;33m=\u001b[0m \u001b[0mall_characters\u001b[0m\u001b[1;33m.\u001b[0m\u001b[0mindex\u001b[0m\u001b[1;33m(\u001b[0m\u001b[0mstring\u001b[0m\u001b[1;33m[\u001b[0m\u001b[0mc\u001b[0m\u001b[1;33m]\u001b[0m\u001b[1;33m)\u001b[0m\u001b[1;33m\u001b[0m\u001b[1;33m\u001b[0m\u001b[0m\n\u001b[0m\u001b[0;32m      8\u001b[0m     \u001b[1;32mreturn\u001b[0m \u001b[0mtensor\u001b[0m\u001b[1;33m\u001b[0m\u001b[1;33m\u001b[0m\u001b[0m\n\u001b[0;32m      9\u001b[0m \u001b[1;33m\u001b[0m\u001b[0m\n",
      "\u001b[1;31mKeyboardInterrupt\u001b[0m: "
     ]
    }
   ],
   "source": [
    "#data:\n",
    "testLen = sum([len(files) for r, d, files in os.walk(\"Data/C50test\")])\n",
    "print('test:', testLen)\n",
    "\n",
    "trainLen = sum([len(files) for r, d, files in os.walk(\"Data/C50train\")])\n",
    "print('train:', trainLen)\n",
    "\n",
    "trainData = []\n",
    "testData = []\n",
    "\n",
    "def gatherData(path, trainOrTest):\n",
    "    #0 = train, 1 = test\n",
    "    for r, d, files in os.walk(\"Data/C50test\"):\n",
    "        author = r[13:]\n",
    "\n",
    "        if author == \"\":\n",
    "            continue\n",
    "\n",
    "        upIdx = getUpperIndices(author)[1]\n",
    "        author = author[:upIdx] + ' ' + author[upIdx:] #add space between author's first and last name\n",
    "\n",
    "        #print(author)\n",
    "\n",
    "        for file in files:\n",
    "            address = r + '/' + file\n",
    "\n",
    "            with open(address, 'r') as f:\n",
    "                content = f.read()\n",
    "\n",
    "            convert = char_tensor(content)\n",
    "            #print(convert)\n",
    "            \n",
    "            item = (author, convert)\n",
    "            \n",
    "            if trainOrTest == 0:\n",
    "                trainData.append(item)\n",
    "            else:\n",
    "                testData.append(item)\n",
    "                \n",
    "#to do: \n",
    "    #shuffle test and train data\n",
    "    #create X vector by combining all the tensors by the third dimension\n",
    "    #create Y vector by extracting the author after shuffling\n",
    "    #allocate half the test data into validation data\n",
    "        \n",
    "#below is old code that i would delete, but will not just in case it might be useful\n",
    "#-----------------------------------------------------------------------------------------\n",
    "\n",
    "#trainData = datasets.ImageFolder('Data/C50train')\n",
    "#testData = datasets.ImageFolder('Data/C50test')\n",
    "\n",
    "#testData, validData = torch.utils.data.random_split(testData, [testLen/2, testLen/2]) #split test data into 2 for validation set\n",
    "\n",
    "#trainLoader = DataLoader(trainData, batch_size = batchSize, shuffle=True)\n",
    "#validLoader = DataLoader(validData, batch_size=batchSize, shuffle=True)\n",
    "#testLoader = DataLoader(testData, batch_size = batchSize, shuffle=True)"
   ]
  },
  {
   "cell_type": "code",
   "execution_count": null,
   "id": "3555f6a4",
   "metadata": {},
   "outputs": [],
   "source": []
  },
  {
   "cell_type": "code",
   "execution_count": 4,
   "id": "6d03b092",
   "metadata": {},
   "outputs": [],
   "source": [
    "# get list of authors\n",
    "classes = []\n",
    "rootdir = 'Data/C50train'\n",
    "for it in os.scandir(rootdir): #scan subdirectory and append each element to list of classes\n",
    "    if it.is_dir():\n",
    "        classes.append(it.path.replace(rootdir + \"\\\\\" , '')) #remove 'C50train\\' from string"
   ]
  },
  {
   "cell_type": "code",
   "execution_count": 5,
   "id": "238bf0ef",
   "metadata": {},
   "outputs": [
    {
     "ename": "TypeError",
     "evalue": "__init__() got an unexpected keyword argument 'momentum'",
     "output_type": "error",
     "traceback": [
      "\u001b[1;31m---------------------------------------------------------------------------\u001b[0m",
      "\u001b[1;31mTypeError\u001b[0m                                 Traceback (most recent call last)",
      "\u001b[1;32m~\\AppData\\Local\\Temp/ipykernel_24756/1333152459.py\u001b[0m in \u001b[0;36m<module>\u001b[1;34m\u001b[0m\n\u001b[0;32m      3\u001b[0m \u001b[1;33m\u001b[0m\u001b[0m\n\u001b[0;32m      4\u001b[0m \u001b[0mcriterion\u001b[0m \u001b[1;33m=\u001b[0m \u001b[0mnn\u001b[0m\u001b[1;33m.\u001b[0m\u001b[0mCrossEntropyLoss\u001b[0m\u001b[1;33m(\u001b[0m\u001b[1;33m)\u001b[0m\u001b[1;33m\u001b[0m\u001b[1;33m\u001b[0m\u001b[0m\n\u001b[1;32m----> 5\u001b[1;33m \u001b[0moptimizer\u001b[0m \u001b[1;33m=\u001b[0m \u001b[0moptim\u001b[0m\u001b[1;33m.\u001b[0m\u001b[0mAdamW\u001b[0m\u001b[1;33m(\u001b[0m\u001b[0mnet\u001b[0m\u001b[1;33m.\u001b[0m\u001b[0mparameters\u001b[0m\u001b[1;33m(\u001b[0m\u001b[1;33m)\u001b[0m\u001b[1;33m,\u001b[0m \u001b[0mlr\u001b[0m\u001b[1;33m=\u001b[0m\u001b[0mlearningRate\u001b[0m\u001b[1;33m,\u001b[0m \u001b[0mmomentum\u001b[0m\u001b[1;33m=\u001b[0m\u001b[1;36m0.9\u001b[0m\u001b[1;33m)\u001b[0m\u001b[1;33m\u001b[0m\u001b[1;33m\u001b[0m\u001b[0m\n\u001b[0m",
      "\u001b[1;31mTypeError\u001b[0m: __init__() got an unexpected keyword argument 'momentum'"
     ]
    }
   ],
   "source": [
    "#insert model here, need to get numbers for these\n",
    "inputSize = 1\n",
    "hiddenSize = 1\n",
    "outputSize = len(classes)\n",
    "\n",
    "net = Net(inputSize, hiddenSize, outputSize)\n",
    "\n",
    "criterion = nn.CrossEntropyLoss()\n",
    "optimizer = optim.AdamW(net.parameters(), lr=learningRate, momentum=0.9)"
   ]
  },
  {
   "cell_type": "code",
   "execution_count": null,
   "id": "66e4f00b",
   "metadata": {},
   "outputs": [],
   "source": [
    "#start training + print accuracy\n",
    "#i see no reason to split any of this up into multiple cells but feel free to do so if there is one\n",
    "\n",
    "for e in range(numEpochs):\n",
    "    #training loop\n",
    "    train_loss = 0.0\n",
    "    net.train()\n",
    "    for data, labels in trainLoader:\n",
    "        data, labels = data.to(device), labels.to(device)\n",
    "\n",
    "        optimizer.zero_grad()\n",
    "        target = net(data)\n",
    "\n",
    "        loss = criterion(target, labels)\n",
    "        loss.backward()\n",
    "        optimizer.step()\n",
    "        train_loss += loss.item()\n",
    "\n",
    "    #validation loop\n",
    "    valid_loss = 0.0\n",
    "    net.eval()  # Optional when not using Model Specific layer\n",
    "    for data, labels in validLoader:\n",
    "        if torch.cuda.is_available():\n",
    "            data, labels = data.cuda(), labels.cuda()\n",
    "\n",
    "        target = net(data)\n",
    "        loss = criterion(target, labels)\n",
    "        valid_loss = loss.item() * data.size(0)\n",
    "\n",
    "    print(\n",
    "        f'Epoch {e + 1} \\t\\t Training Loss: {train_loss / len(trainLoader)} \\t\\t Validation Loss: {valid_loss / len(validLoader)}')\n",
    "\n",
    "    #save model if validation loss decreases\n",
    "    if min_valid_loss > valid_loss:\n",
    "        print(f'Validation Loss Decreased({min_valid_loss:.6f}--->{valid_loss:.6f}) \\t Saving The Model')\n",
    "        min_valid_loss = valid_loss\n",
    "        # Saving State Dict\n",
    "        torch.save(net.state_dict(), 'Models/saved_model.pth')\n",
    "\n",
    "#test loop\n",
    "correct_pred = {classname: 0 for classname in classes}\n",
    "total_pred = {classname: 0 for classname in classes}\n",
    "\n",
    "with torch.no_grad():\n",
    "    for data in testLoader:\n",
    "        images, labels = data\n",
    "        outputs = net(images)\n",
    "        _, predictions = torch.max(outputs, 1)\n",
    "\n",
    "        for label, prediction in zip(labels, predictions):\n",
    "            if label == prediction:\n",
    "                correct_pred[classes[label]] += 1\n",
    "            total_pred[classes[label]] += 1\n",
    "\n",
    "for classname, correct_count in correct_pred.items():\n",
    "    accuracy = 100 * float(correct_count) / total_pred[classname]\n",
    "    print(\"Accuracy for class {:5s} is: {:.1f} %\".format(classname, accuracy))"
   ]
  }
 ],
 "metadata": {
  "kernelspec": {
   "display_name": "Python 3 (ipykernel)",
   "language": "python",
   "name": "python3"
  },
  "language_info": {
   "codemirror_mode": {
    "name": "ipython",
    "version": 3
   },
   "file_extension": ".py",
   "mimetype": "text/x-python",
   "name": "python",
   "nbconvert_exporter": "python",
   "pygments_lexer": "ipython3",
   "version": "3.9.5"
  }
 },
 "nbformat": 4,
 "nbformat_minor": 5
}
